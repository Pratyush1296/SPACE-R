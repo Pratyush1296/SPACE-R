{
 "cells": [
  {
   "cell_type": "code",
   "execution_count": 2,
   "id": "ad4fae40",
   "metadata": {},
   "outputs": [],
   "source": [
    "import pandas as pd\n",
    "import itertools"
   ]
  },
  {
   "cell_type": "markdown",
   "id": "aa4f10d3",
   "metadata": {},
   "source": [
    "### Preprocessing for AMiner"
   ]
  },
  {
   "cell_type": "code",
   "execution_count": null,
   "id": "2766680d",
   "metadata": {},
   "outputs": [],
   "source": [
    "aminer_is = pd.read_csv('C:/Users/Pratyush Yadav/Downloads/Papers.csv')\n",
    "is_cluster = pd.read_csv('C:/Users/Pratyush Yadav/Desktop/IITM/Research/IPM Exp/AMiner_IS/cluster.csv')\n",
    "\n",
    "collab = pd.read_pickle('C:/Users/Pratyush Yadav/Desktop/AMiner/AMiner/Collab.pkl')\n",
    "auth_paper = pd.read_pickle('C:/Users/Pratyush Yadav/Desktop/AMiner/AMiner/Author2paper.pkl')"
   ]
  },
  {
   "cell_type": "code",
   "execution_count": null,
   "id": "b9355784",
   "metadata": {},
   "outputs": [],
   "source": [
    "is_cluster['Paper_Id'] = is_cluster['Paper_Id'].apply(lambda x: str(x))\n",
    "auth2paper = auth_paper[auth_paper['Paper_ID'].isin(is_cluster['Paper_Id'].unique().tolist())]\n",
    "auth2paper.index = range(len(auth2paper))"
   ]
  },
  {
   "cell_type": "code",
   "execution_count": null,
   "id": "e918ef3e",
   "metadata": {},
   "outputs": [],
   "source": [
    "aminer_is['Authors'] = aminer_is['Authors'].apply(lambda x: ast.literal_eval(x))"
   ]
  },
  {
   "cell_type": "code",
   "execution_count": null,
   "id": "43c8f792",
   "metadata": {},
   "outputs": [],
   "source": [
    "un_authors=aminer_is[~aminer_is['paper_id'].isin(auth2paper['Paper_ID'].unique().tolist())]['Authors'].tolist()\n",
    "un_papers=aminer_is[~aminer_is['paper_id'].isin(auth2paper['Paper_ID'].unique().tolist())]['paper_id'].tolist()"
   ]
  },
  {
   "cell_type": "code",
   "execution_count": null,
   "id": "93b04cc0",
   "metadata": {},
   "outputs": [],
   "source": [
    "author_ids_max = 1714261"
   ]
  },
  {
   "cell_type": "code",
   "execution_count": null,
   "id": "4d0fcebd",
   "metadata": {},
   "outputs": [],
   "source": [
    "pap_ids=[]\n",
    "author_ids=[]\n",
    "author_pos=[]\n",
    "for i in range(len(un_authors)):\n",
    "    pos=0\n",
    "    if len(un_authors[i])>1:\n",
    "        for j in range(len(un_authors[i])):\n",
    "            pap_ids.append(un_papers[i])\n",
    "            try:\n",
    "                author_ids.append(auth_info[auth_info['Author Name']==un_authors[i][j]]['author_id'].tolist()[0])\n",
    "            except IndexError:\n",
    "                author_ids_max = author_ids_max + 1\n",
    "                author_ids.append(str(author_ids_max))\n",
    "            pos=pos+1\n",
    "            author_pos.append(pos)\n",
    "    else:\n",
    "        if un_authors[i][0]!='':\n",
    "            pap_ids.append(un_papers[i])\n",
    "            try:\n",
    "                author_ids.append(auth_info[auth_info['Author Name']==un_authors[i][j]]['author_id'].tolist()[0])\n",
    "            except IndexError:\n",
    "                author_ids_max = author_ids_max + 1\n",
    "                author_ids.append(str(author_ids_max))\n",
    "            pos=pos+1\n",
    "            author_pos.append(pos)\n",
    "    "
   ]
  },
  {
   "cell_type": "code",
   "execution_count": null,
   "id": "12013929",
   "metadata": {},
   "outputs": [],
   "source": [
    "df1 = pd.DataFrame({\n",
    "    'Paper_ID':pap_ids,\n",
    "    'Author_ID':author_ids,\n",
    "    'Author_Pos':author_pos\n",
    "})\n",
    "df1"
   ]
  },
  {
   "cell_type": "code",
   "execution_count": null,
   "id": "a72806aa",
   "metadata": {},
   "outputs": [],
   "source": [
    "frame = pd.concat([auth2paper,df1], ignore_index=True)"
   ]
  },
  {
   "cell_type": "code",
   "execution_count": null,
   "id": "985dcc92",
   "metadata": {},
   "outputs": [],
   "source": [
    "import matplotlib.pyplot as plt\n",
    "import seaborn as sns\n",
    "\n",
    "plt.figure(figsize=(15,10))\n",
    "sns.heatmap(pca_factors.corr(),annot=True)\n",
    "plt.show()"
   ]
  },
  {
   "cell_type": "markdown",
   "id": "2dd9d8f4",
   "metadata": {},
   "source": [
    "### Code for Title length, Price Index, Abstract Length"
   ]
  },
  {
   "cell_type": "code",
   "execution_count": null,
   "id": "63dff33b",
   "metadata": {},
   "outputs": [],
   "source": [
    "aminer_is['Abstract'].fillna('',inplace=True)"
   ]
  },
  {
   "cell_type": "code",
   "execution_count": null,
   "id": "413357a5",
   "metadata": {},
   "outputs": [],
   "source": [
    "import ast\n",
    "aminer_is['references'] = aminer_is['references'].apply(lambda x: ast.literal_eval(x))"
   ]
  },
  {
   "cell_type": "code",
   "execution_count": null,
   "id": "0ee2cef9",
   "metadata": {
    "scrolled": true
   },
   "outputs": [],
   "source": [
    "aminer_is['references'][31221]# = ['1191654', '1938859', '1938870']"
   ]
  },
  {
   "cell_type": "code",
   "execution_count": null,
   "id": "6dd1946b",
   "metadata": {},
   "outputs": [],
   "source": [
    "aminer_is.to_csv('C:/Users/Pratyush Yadav/Downloads/Papers.csv')"
   ]
  },
  {
   "cell_type": "code",
   "execution_count": null,
   "id": "51fbb996",
   "metadata": {},
   "outputs": [],
   "source": [
    "aminer_is['paper_id'] = aminer_is['paper_id'].apply(lambda x: str(x))"
   ]
  },
  {
   "cell_type": "code",
   "execution_count": null,
   "id": "d6208764",
   "metadata": {},
   "outputs": [],
   "source": [
    "ref_year = aminer_is[aminer_is['paper_id']=='2078524']['year'].tolist()[0]\n",
    "ref_year-5"
   ]
  },
  {
   "cell_type": "code",
   "execution_count": null,
   "id": "2587acc6",
   "metadata": {},
   "outputs": [],
   "source": [
    "sum(aminer_is[aminer_is['paper_id'].isin(aminer_is['references'][31221])]['year']>=(ref_year-5))/len(aminer_is['references'][31221])"
   ]
  },
  {
   "cell_type": "code",
   "execution_count": null,
   "id": "5aad9c9d",
   "metadata": {},
   "outputs": [],
   "source": [
    "paper_id=[]\n",
    "title_length=[]\n",
    "abstract_length=[]\n",
    "price_index=[]\n",
    "n_ref=[]\n",
    "for i in range(len(aminer_is)):\n",
    "    paper_id.append(aminer_is['paper_id'][i])\n",
    "    title_length.append(len(aminer_is['Title'][i]))\n",
    "    abstract_length.append(len(aminer_is['Abstract'][i]))\n",
    "    n_ref.append(len(aminer_is['references'][i]))\n",
    "    ref_year = aminer_is[aminer_is['paper_id']==aminer_is['paper_id'][i]]['year'].tolist()[0]\n",
    "    if len(aminer_is['references'][i])!=0:\n",
    "        price_index.append(sum(aminer_is[aminer_is\n",
    "                                         ['paper_id'].isin(aminer_is['references'][i])]\n",
    "                               ['year']>=(ref_year-5))/len(aminer_is['references'][i]))\n",
    "    else:\n",
    "        price_index.append(0)\n",
    "    print(i)"
   ]
  },
  {
   "cell_type": "code",
   "execution_count": null,
   "id": "12ad87b0",
   "metadata": {},
   "outputs": [],
   "source": [
    "pca_factors=pd.DataFrame({\n",
    "    'paper_id':paper_id,\n",
    "    'title_len':title_length,\n",
    "    'abstract_len':abstract_length,\n",
    "    'n_ref':n_ref,\n",
    "    'price':price_index\n",
    "})"
   ]
  },
  {
   "cell_type": "markdown",
   "id": "fffdb72a",
   "metadata": {},
   "source": [
    "### Author Related Factors"
   ]
  },
  {
   "cell_type": "code",
   "execution_count": null,
   "id": "4b6bc704",
   "metadata": {},
   "outputs": [],
   "source": [
    "auth2paper['Author_Pos'] = auth2paper['Author_Pos'].apply(lambda x: int(x))"
   ]
  },
  {
   "cell_type": "code",
   "execution_count": null,
   "id": "e84e11ac",
   "metadata": {},
   "outputs": [],
   "source": [
    "authors = auth2paper[auth2paper['Paper_ID']==str(is_cluster['Paper_Id'][0])]"
   ]
  },
  {
   "cell_type": "code",
   "execution_count": null,
   "id": "9461b7fd",
   "metadata": {},
   "outputs": [],
   "source": [
    "(1/authors['Author_Pos'][0:]).sum()"
   ]
  },
  {
   "cell_type": "code",
   "execution_count": null,
   "id": "3eb451b3",
   "metadata": {
    "scrolled": true
   },
   "outputs": [],
   "source": [
    "for i in range(len(un_papers)):\n",
    "    pap1 = frame[frame['Paper_ID']==un_papers[i]].index.tolist()\n",
    "    authors = frame[frame['Paper_ID']==un_papers[i]]\n",
    "    authors.index = range(len(authors))\n",
    "    for j in range(len(pap1)):\n",
    "        frame.loc[frame.index[pap1[j]],'citations'] = is_cluster[is_cluster['Paper_Id']==un_papers[i]]['n_cite'].tolist()[0]\n",
    "        frame.loc[frame.index[pap1[j]],'Citescore'] = is_cluster[is_cluster['Paper_Id']==un_papers[i]]['CiteScore'].tolist()[0]\n",
    "        frame.loc[frame.index[pap1[j]],'Year'] = aminer_is[aminer_is['paper_id']==un_papers[i]]['year'].tolist()[0]\n",
    "        frame.loc[frame.index[pap1[j]],'Equal_A_index'] = 1/len(pap1)\n",
    "        frame.loc[frame.index[pap1[j]],'Unequal_A_index'] = (1/authors['Author_Pos'][j:]).sum()/len(pap1)\n",
    "    print(i)"
   ]
  },
  {
   "cell_type": "code",
   "execution_count": null,
   "id": "a9367158",
   "metadata": {},
   "outputs": [],
   "source": [
    "auth2paper['Author_Pos']=auth2paper['Author_Pos'].apply(lambda x: int(x))"
   ]
  },
  {
   "cell_type": "code",
   "execution_count": null,
   "id": "16600c06",
   "metadata": {},
   "outputs": [],
   "source": [
    "auth2paper['Reciprocal_Pos']=1/auth2paper['Author_Pos']"
   ]
  },
  {
   "cell_type": "code",
   "execution_count": null,
   "id": "4e78ba74",
   "metadata": {},
   "outputs": [],
   "source": [
    "pap1=auth2paper[auth2paper['Paper_ID']=='18'].index.tolist()\n",
    "authors = auth2paper[auth2paper['Paper_ID']=='18']\n",
    "authors.index = range(len(authors))"
   ]
  },
  {
   "cell_type": "code",
   "execution_count": null,
   "id": "79aa4c9c",
   "metadata": {},
   "outputs": [],
   "source": [
    "i"
   ]
  },
  {
   "cell_type": "code",
   "execution_count": null,
   "id": "e8673102",
   "metadata": {
    "scrolled": true
   },
   "outputs": [],
   "source": [
    "for i in range(6083,len(is_cluster)):\n",
    "    pap1 = auth2paper[auth2paper['Paper_ID']==is_cluster['Paper_Id'][i]].index.tolist()\n",
    "    authors = auth2paper[auth2paper['Paper_ID']==is_cluster['Paper_Id'][i]]\n",
    "    authors.index = range(len(authors))\n",
    "    for j in range(len(pap1)):\n",
    "        auth2paper.loc[auth2paper.index[pap1[j]],'Unequal_A_index'] = (authors['Reciprocal_Pos'][j:].sum())/len(pap1)\n",
    "    print(i)    "
   ]
  },
  {
   "cell_type": "code",
   "execution_count": null,
   "id": "db9e657f",
   "metadata": {},
   "outputs": [],
   "source": [
    "auth2paper"
   ]
  },
  {
   "cell_type": "code",
   "execution_count": null,
   "id": "6220beb3",
   "metadata": {},
   "outputs": [],
   "source": [
    "frame['P_paper_equal_a'] = frame['Equal_A_index']*frame['Citescore']\n",
    "frame['P_paper_unequal_a'] = frame['Unequal_A_index']*frame['Citescore']"
   ]
  },
  {
   "cell_type": "code",
   "execution_count": null,
   "id": "a546cb7c",
   "metadata": {},
   "outputs": [],
   "source": [
    "author_ids = frame['Author_ID'].unique().tolist()"
   ]
  },
  {
   "cell_type": "code",
   "execution_count": null,
   "id": "2daea342",
   "metadata": {
    "scrolled": true
   },
   "outputs": [],
   "source": [
    "for i in range(len(author_ids)):\n",
    "    pap1 = frame[frame['Author_ID']==author_ids[i]].index.tolist()\n",
    "    authors = frame[frame['Author_ID']==author_ids[i]]\n",
    "    authors.index = range(len(authors))\n",
    "    for j in range(len(pap1)):\n",
    "        frame.loc[frame.index[pap1[j]],'Past_Pub'] = len(authors)\n",
    "        frame.loc[frame.index[pap1[j]],'Past_Cite'] = authors['citations'].sum()\n",
    "        frame.loc[frame.index[pap1[j]],'MedCites'] = authors['citations'].median()\n",
    "        frame.loc[frame.index[pap1[j]],'Active Years'] = 2015 - authors['Year'].min()\n",
    "    print(i)"
   ]
  },
  {
   "cell_type": "code",
   "execution_count": null,
   "id": "4ba71398",
   "metadata": {},
   "outputs": [],
   "source": [
    "frame['Rate_pub'] = frame['Past_Pub']/frame['Active Years']"
   ]
  },
  {
   "cell_type": "code",
   "execution_count": null,
   "id": "a3f77abb",
   "metadata": {},
   "outputs": [],
   "source": [
    "import numpy as np"
   ]
  },
  {
   "cell_type": "code",
   "execution_count": null,
   "id": "19992683",
   "metadata": {},
   "outputs": [],
   "source": [
    "for i in range(len(author_ids)):\n",
    "    \n",
    "    #h-index\n",
    "    cit1 = frame[frame['Author_ID']==author_ids[i]]['citations'].index.tolist()\n",
    "    citations = frame[frame['Author_ID']==author_ids[i]]['citations'].tolist()\n",
    "    citations = np.array(citations)\n",
    "    n=citations.shape[0]\n",
    "    array = np.arange(1,n+1)\n",
    "    citations = np.sort(citations)[::-1]\n",
    "    h_idx = np.max(np.minimum(citations, array))\n",
    "    \n",
    "    #p-index\n",
    "    p_equal_a = frame[frame['Author_ID']==author_ids[i]]['P_paper_equal_a'].sum()\n",
    "    p_unequal_a = frame[frame['Author_ID']==author_ids[i]]['P_paper_unequal_a'].sum()\n",
    "    \n",
    "    #Adding to dataframe\n",
    "    for j in range(len(cit1)):\n",
    "        frame.loc[frame.index[cit1[j]],'H_index_auth']=h_idx\n",
    "        frame.loc[frame.index[cit1[j]],'P_equal_index_auth']=p_equal_a\n",
    "        frame.loc[frame.index[cit1[j]],'P_unequal_index_auth']=p_unequal_a\n",
    "    print(i)"
   ]
  },
  {
   "cell_type": "code",
   "execution_count": null,
   "id": "960327c3",
   "metadata": {},
   "outputs": [],
   "source": [
    "pap_ids=[]\n",
    "authors=[]\n",
    "for i in range(len(is_cluster)):\n",
    "    pap_ids.append(is_cluster['Paper_Id'][i])\n",
    "    authors.append(frame[frame['Paper_ID']==is_cluster['Paper_Id'][i]]['Author_ID'].tolist())\n",
    "paper_author = pd.DataFrame({\n",
    "    'paper_id':pap_ids,\n",
    "    'authors':authors\n",
    "})\n",
    "paper_author"
   ]
  },
  {
   "cell_type": "code",
   "execution_count": null,
   "id": "4a636704",
   "metadata": {},
   "outputs": [],
   "source": [
    "import itertools\n",
    "auth1=[]\n",
    "auth2=[]\n",
    "collab=[]\n",
    "for i in range(len(paper_author)):\n",
    "    cc = itertools.combinations(paper_author.authors[i],2)\n",
    "    for j in cc:\n",
    "        auth1.append(j[0])\n",
    "        auth2.append(j[1])\n",
    "        collab.append(1)\n",
    "#     print(i)\n",
    "df2 = pd.DataFrame({\n",
    "    'Author1':auth1,\n",
    "    'Author2':auth2,\n",
    "    'collab':collab\n",
    "})"
   ]
  },
  {
   "cell_type": "code",
   "execution_count": null,
   "id": "fe4e136b",
   "metadata": {},
   "outputs": [],
   "source": [
    "df2['Node1']=df2[['Author1','Author2']].min(axis=1)\n",
    "df2['Node2']=df2[['Author1','Author2']].max(axis=1)\n",
    "Collab=df2.groupby(['Node1','Node2'],as_index=False)['collab'].sum()\n",
    "Collab['Node1'] = Collab['Node1'].apply(lambda x: str(x).split('.')[0])\n",
    "Collab['Node2'] = Collab['Node2'].apply(lambda x: str(x).split('.')[0])\n",
    "\n",
    "\n",
    "auth_collab1=[]\n",
    "for i in range(len(paper_author)):\n",
    "    count=0\n",
    "    for j in range(len(paper_author.authors[i])):\n",
    "        count = count + Collab[(Collab['Node1']==paper_author.authors[i][j])|\n",
    "                               (Collab['Node2']==paper_author.authors[i][j])]['collab'].sum()\n",
    "    if (len(paper_author.authors[i])!=0):\n",
    "        auth_collab1.append(count/(len(paper_author.authors[i])))\n",
    "    else:\n",
    "        auth_collab1.append(count)\n",
    "    print(i)"
   ]
  },
  {
   "cell_type": "code",
   "execution_count": null,
   "id": "de784fed",
   "metadata": {},
   "outputs": [],
   "source": [
    "paper_author['auth_collab'] = auth_collab1 "
   ]
  },
  {
   "cell_type": "code",
   "execution_count": null,
   "id": "88960c24",
   "metadata": {},
   "outputs": [],
   "source": [
    "auth2paper_metrics=frame[['Author_ID','Paper_ID','Author_Pos','Past_Pub',\n",
    "            'Past_Cite','Rate_pub','H_index_auth','P_equal_index_auth','P_unequal_index_auth','MedCites']]"
   ]
  },
  {
   "cell_type": "code",
   "execution_count": null,
   "id": "ef7931d4",
   "metadata": {},
   "outputs": [],
   "source": [
    "pca_author_factors1=auth2paper_metrics.groupby(['Paper_ID'],as_index=False).agg({\n",
    "    'Past_Pub':np.mean,\n",
    "    'Past_Cite':np.mean,\n",
    "    'Rate_pub':np.mean,\n",
    "    'H_index_auth':np.mean,\n",
    "    'P_equal_index_auth':np.mean,\n",
    "    'P_unequal_index_auth':np.mean,\n",
    "    'MedCites':np.mean\n",
    "})"
   ]
  },
  {
   "cell_type": "code",
   "execution_count": null,
   "id": "2a0e1273",
   "metadata": {
    "scrolled": true
   },
   "outputs": [],
   "source": [
    "pca_author_factors"
   ]
  },
  {
   "cell_type": "code",
   "execution_count": null,
   "id": "791dc1d9",
   "metadata": {},
   "outputs": [],
   "source": [
    "pca_author_factors=paper_author.merge(pca_author_factors1, how='left', left_on='paper_id',right_on='Paper_ID')"
   ]
  },
  {
   "cell_type": "code",
   "execution_count": null,
   "id": "ca2e862b",
   "metadata": {},
   "outputs": [],
   "source": [
    "pca_author_factors['n_authors'] = pca_author_factors['authors'].apply(lambda x: len(x))"
   ]
  },
  {
   "cell_type": "code",
   "execution_count": null,
   "id": "108fcd72",
   "metadata": {},
   "outputs": [],
   "source": [
    "pca_author_factors = pca_author_factors[['paper_id','auth_collab','n_authors','Past_Pub','Past_Cite','Rate_pub',\n",
    "                                        'H_index_auth','P_equal_index_auth','P_unequal_index_auth','MedCites']]"
   ]
  },
  {
   "cell_type": "code",
   "execution_count": null,
   "id": "3d33ac8d",
   "metadata": {},
   "outputs": [],
   "source": [
    "pca_factors2=pca_factors.merge(pca_author_factors, how='left',on='paper_id')"
   ]
  },
  {
   "cell_type": "code",
   "execution_count": null,
   "id": "63bb74ec",
   "metadata": {},
   "outputs": [],
   "source": [
    "pca_factors2"
   ]
  },
  {
   "cell_type": "code",
   "execution_count": null,
   "id": "78e44b3c",
   "metadata": {},
   "outputs": [],
   "source": [
    "pca_factors2['CiteScore']= is_cluster['CiteScore']\n",
    "pca_factors2['Percentile'] = is_cluster['Percentile']\n",
    "pca_factors2['Percent_Cited'] = is_cluster['Percent_Cited']\n",
    "pca_factors2['SNIP'] = is_cluster['SNIP']\n",
    "pca_factors2['SJR'] = is_cluster['SJR']\n",
    "pca_factors2['n_cite'] = is_cluster['n_cite']\n",
    "pca_factors2['Recency'] = is_cluster['Recency']"
   ]
  },
  {
   "cell_type": "code",
   "execution_count": null,
   "id": "2ea03ce9",
   "metadata": {},
   "outputs": [],
   "source": [
    "pca_factors2.columns"
   ]
  },
  {
   "cell_type": "code",
   "execution_count": null,
   "id": "6c516bf5",
   "metadata": {},
   "outputs": [],
   "source": [
    "pca_factors2 = pca_factors2[['paper_id', 'title_len', 'abstract_len', 'n_ref', 'price','n_cite','Recency',\n",
    "       'auth_collab', 'n_authors', 'Past_Pub', 'Past_Cite', 'Rate_pub',\n",
    "       'H_index_auth', 'P_equal_index_auth', 'P_unequal_index_auth',\n",
    "       'MedCites', 'CiteScore', 'Percentile', 'Percent_Cited', 'SNIP', 'SJR']]"
   ]
  },
  {
   "cell_type": "code",
   "execution_count": null,
   "id": "230a1233",
   "metadata": {},
   "outputs": [],
   "source": [
    "import matplotlib.pyplot as plt\n",
    "import seaborn as sns\n",
    "\n",
    "plt.figure(figsize=(15,10))\n",
    "sns.heatmap(pca_factors2.drop(['MedCites'], axis=1).corr(),annot=True)\n",
    "plt.show()"
   ]
  },
  {
   "cell_type": "markdown",
   "id": "c14855d3",
   "metadata": {},
   "source": [
    "### Factor Analysis"
   ]
  },
  {
   "cell_type": "code",
   "execution_count": null,
   "id": "77767549",
   "metadata": {},
   "outputs": [],
   "source": [
    "input_pca = pca_factors2.drop(['paper_id','MedCites','title_len','n_authors','n_cite','Rate_pub',\n",
    "                               'P_unequal_index_auth'],axis=1)\n",
    "input_pca.fillna(0,inplace=True)"
   ]
  },
  {
   "cell_type": "code",
   "execution_count": null,
   "id": "65285120",
   "metadata": {},
   "outputs": [],
   "source": [
    "from factor_analyzer import FactorAnalyzer\n",
    "from factor_analyzer.factor_analyzer import calculate_kmo\n",
    "from factor_analyzer.factor_analyzer import calculate_bartlett_sphericity\n",
    "kmo_all,kmo_model = calculate_kmo(input_pca)\n",
    "chi_square_value,p_value = calculate_bartlett_sphericity(input_pca)\n",
    "print(kmo_model,p_value)"
   ]
  },
  {
   "cell_type": "code",
   "execution_count": null,
   "id": "d7bd4b42",
   "metadata": {
    "scrolled": true
   },
   "outputs": [],
   "source": [
    "fa=FactorAnalyzer(n_factors=3,method='principal', rotation='varimax')\n",
    "fa.fit(input_pca)\n",
    "ev,v=fa.get_eigenvalues()\n",
    "ev"
   ]
  },
  {
   "cell_type": "code",
   "execution_count": 204,
   "id": "81b09a59",
   "metadata": {},
   "outputs": [
    {
     "data": {
      "text/plain": [
       "Index(['abstract_len', 'n_ref', 'price', 'Recency', 'auth_collab', 'Past_Pub',\n",
       "       'Past_Cite', 'H_index_auth', 'P_equal_index_auth', 'CiteScore',\n",
       "       'Percentile', 'Percent_Cited', 'SNIP', 'SJR'],\n",
       "      dtype='object')"
      ]
     },
     "execution_count": 204,
     "metadata": {},
     "output_type": "execute_result"
    }
   ],
   "source": [
    "input_pca.columns"
   ]
  },
  {
   "cell_type": "code",
   "execution_count": 200,
   "id": "e6c1072f",
   "metadata": {},
   "outputs": [
    {
     "data": {
      "text/plain": [
       "array([[-0.02501,  0.17453,  0.65153],\n",
       "       [ 0.17532,  0.1418 ,  0.62583],\n",
       "       [-0.01187, -0.05497,  0.65156],\n",
       "       [-0.18901, -0.06555,  0.75722],\n",
       "       [ 0.86789,  0.052  ,  0.05767],\n",
       "       [ 0.94384,  0.04556, -0.0136 ],\n",
       "       [ 0.846  ,  0.18116,  0.00836],\n",
       "       [ 0.89162,  0.23748, -0.10565],\n",
       "       [ 0.89893,  0.2555 , -0.02277],\n",
       "       [ 0.14696,  0.95336,  0.05582],\n",
       "       [ 0.0794 ,  0.85873,  0.0805 ],\n",
       "       [ 0.09452,  0.91628,  0.08681],\n",
       "       [ 0.14764,  0.91954,  0.00261],\n",
       "       [ 0.29321,  0.77042,  0.04313]])"
      ]
     },
     "execution_count": 200,
     "metadata": {},
     "output_type": "execute_result"
    }
   ],
   "source": [
    "fa.loadings_"
   ]
  },
  {
   "cell_type": "code",
   "execution_count": 201,
   "id": "12569b25",
   "metadata": {},
   "outputs": [
    {
     "data": {
      "text/plain": [
       "array([0.45558, 0.44251, 0.42769, 0.61341, 0.75927, 0.89309, 0.74861,\n",
       "       0.86254, 0.87387, 0.9336 , 0.7502 , 0.85605, 0.86735, 0.68138])"
      ]
     },
     "execution_count": 201,
     "metadata": {},
     "output_type": "execute_result"
    }
   ],
   "source": [
    "fa.get_communalities()"
   ]
  },
  {
   "cell_type": "code",
   "execution_count": 202,
   "id": "1e021ebb",
   "metadata": {},
   "outputs": [
    {
     "data": {
      "text/plain": [
       "(array([4.17467, 4.14214, 1.84833]),\n",
       " array([0.29819, 0.29587, 0.13202]),\n",
       " array([0.29819, 0.59406, 0.72608]))"
      ]
     },
     "execution_count": 202,
     "metadata": {},
     "output_type": "execute_result"
    }
   ],
   "source": [
    "fa.get_factor_variance()"
   ]
  },
  {
   "cell_type": "code",
   "execution_count": null,
   "id": "5d57983d",
   "metadata": {},
   "outputs": [],
   "source": [
    "np.set_printoptions(precision=5)"
   ]
  },
  {
   "cell_type": "code",
   "execution_count": null,
   "id": "853b6d6b",
   "metadata": {},
   "outputs": [],
   "source": [
    "import pingouin as pg"
   ]
  },
  {
   "cell_type": "code",
   "execution_count": null,
   "id": "20e46ad0",
   "metadata": {},
   "outputs": [],
   "source": [
    "factor2 = pca_factors2[['auth_collab','Past_Pub','Past_Cite','H_index_auth','P_equal_index_auth']]\n",
    "factor1 = pca_factors2[['CiteScore','Percentile','Percent_Cited','SNIP','SJR']]\n",
    "factor3 = pca_factors2[['abstract_len','n_ref','Recency','price']]"
   ]
  },
  {
   "cell_type": "code",
   "execution_count": null,
   "id": "ce6e8dc2",
   "metadata": {},
   "outputs": [],
   "source": [
    "factor3_1 = (factor3 - factor3.mean())/factor3.std()\n",
    "factor2_1 = (factor2 - factor2.mean())/factor2.std()\n",
    "factor1_1 = (factor1 - factor1.mean())/factor1.std()"
   ]
  },
  {
   "cell_type": "code",
   "execution_count": 203,
   "id": "26358f3f",
   "metadata": {},
   "outputs": [
    {
     "name": "stdout",
     "output_type": "stream",
     "text": [
      "(0.9410353535462663, array([0.94 , 0.942])) (0.9446205045449995, array([0.944, 0.946])) (0.6013610100664596, array([0.594, 0.609]))\n"
     ]
    }
   ],
   "source": [
    "factor1_alpha = pg.cronbach_alpha(factor1_1)\n",
    "factor2_alpha = pg.cronbach_alpha(factor2_1)\n",
    "factor3_alpha = pg.cronbach_alpha(factor3_1)\n",
    "print(factor1_alpha, factor2_alpha, factor3_alpha)"
   ]
  },
  {
   "cell_type": "code",
   "execution_count": null,
   "id": "929fb35d",
   "metadata": {},
   "outputs": [],
   "source": [
    "varia=fa.get_factor_variance()[1]"
   ]
  },
  {
   "cell_type": "code",
   "execution_count": null,
   "id": "ac134231",
   "metadata": {},
   "outputs": [],
   "source": [
    "transformed=pd.DataFrame(fa.transform(input_pca))\n",
    "transformed.columns = ['Author','Journal','Paper']"
   ]
  },
  {
   "cell_type": "code",
   "execution_count": null,
   "id": "36484824",
   "metadata": {},
   "outputs": [],
   "source": [
    "transformed['score'] = (transformed['Journal']*(varia[1]/sum(varia)))+(transformed['Author']*\n",
    "                                                                       (varia[0]/sum(varia)))+(transformed['Paper']*\n",
    "                                                                                               (varia[2]/sum(varia)))"
   ]
  },
  {
   "cell_type": "code",
   "execution_count": null,
   "id": "ba168da5",
   "metadata": {},
   "outputs": [],
   "source": [
    "pca_factors2['score_best'] = transformed['score']"
   ]
  },
  {
   "cell_type": "code",
   "execution_count": 1,
   "id": "41ad49b6",
   "metadata": {},
   "outputs": [],
   "source": [
    "import pandas as pd\n",
    "citation_edges = pd.read_csv('C:/Users/Pratyush Yadav/Desktop/IITM/Research/IPM Exp/AMiner_IS/cite_edges3.csv')"
   ]
  },
  {
   "cell_type": "code",
   "execution_count": null,
   "id": "c8285cb5",
   "metadata": {},
   "outputs": [],
   "source": [
    "citation_edges['Source'] = citation_edges['Source'].apply(lambda x: str(x))\n",
    "citation_edges['Target'] = citation_edges['Target'].apply(lambda x: str(x))"
   ]
  },
  {
   "cell_type": "code",
   "execution_count": null,
   "id": "61cc5988",
   "metadata": {},
   "outputs": [],
   "source": [
    "weight_best =[]\n",
    "for i in range(len(citation_edges)):\n",
    "    source_score = pca_factors2[pca_factors2['paper_id']==citation_edges['Source'][i]]['score_best'].tolist()[0]\n",
    "    target_score = pca_factors2[pca_factors2['paper_id']==citation_edges['Target'][i]]['score_best'].tolist()[0]\n",
    "    weight_best.append(target_score-source_score)"
   ]
  },
  {
   "cell_type": "code",
   "execution_count": null,
   "id": "0a60cfb2",
   "metadata": {},
   "outputs": [],
   "source": [
    "# citation_edges['weight_WP'] = weight_WP\n",
    "# citation_edges['weight_P'] = weight_P\n",
    "citation_edges['weight_best'] = weight_best\n",
    "citation_edges['weight_best'] =(citation_edges['weight_best']-citation_edges['weight_best'].min()\n",
    "                           )/(citation_edges['weight_best'].max()-citation_edges['weight_best'].min())"
   ]
  },
  {
   "cell_type": "code",
   "execution_count": null,
   "id": "60f61f64",
   "metadata": {},
   "outputs": [],
   "source": [
    "## Save the results\n",
    "citation_edges.to_csv('C:/Users/Pratyush Yadav/Desktop/IITM/Research/IPM Exp/AMiner_IS/JOI_Revise/cite_edges.csv',index=False)\n",
    "pca_factors2.to_pickle('C:/Users/Pratyush Yadav/Desktop/IITM/Research/IPM Exp/AMiner_IS/new_pca_results.pkl')"
   ]
  }
 ],
 "metadata": {
  "kernelspec": {
   "display_name": "Python 3",
   "language": "python",
   "name": "python3"
  },
  "language_info": {
   "codemirror_mode": {
    "name": "ipython",
    "version": 3
   },
   "file_extension": ".py",
   "mimetype": "text/x-python",
   "name": "python",
   "nbconvert_exporter": "python",
   "pygments_lexer": "ipython3",
   "version": "3.9.5"
  }
 },
 "nbformat": 4,
 "nbformat_minor": 5
}
